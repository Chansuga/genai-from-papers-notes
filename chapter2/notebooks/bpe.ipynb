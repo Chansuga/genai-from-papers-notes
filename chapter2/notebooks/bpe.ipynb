{
 "cells": [
  {
   "cell_type": "markdown",
   "id": "2033951a",
   "metadata": {},
   "source": [
    "# バイト対符号化（Byte Pair Encoding）を理解するためのPythonコード"
   ]
  },
  {
   "cell_type": "code",
   "execution_count": 9,
   "id": "d6f2b860",
   "metadata": {},
   "outputs": [],
   "source": [
    "import re, collections"
   ]
  },
  {
   "cell_type": "code",
   "execution_count": 10,
   "id": "64b1fdc9",
   "metadata": {},
   "outputs": [],
   "source": [
    "# 空白区切りで単語を分割して出現頻度をカウントして語彙の辞書を作成\n",
    "def get_stats(vocab):\n",
    "    pairs = collections.defaultdict(int)\n",
    "    for word, freq in vocab.items():\n",
    "        symbols = word.split(\" \")\n",
    "        for i in range(len(symbols) - 1):\n",
    "            pairs[(symbols[i], symbols[i + 1])] += freq\n",
    "    return pairs"
   ]
  },
  {
   "cell_type": "code",
   "execution_count": 11,
   "id": "5bf6b33c",
   "metadata": {},
   "outputs": [],
   "source": [
    "# 与えられた単語ペアを結合して新たな語彙の辞書を作成\n",
    "def merge_vocab(pair, v_in):\n",
    "    v_out = {}\n",
    "    bigram = \" \".join(pair)\n",
    "    replacement = \"\".join(pair)\n",
    "    for word in v_in:\n",
    "        w_out = word.replace(bigram, replacement)\n",
    "        v_out[w_out] = v_in[word]\n",
    "    return v_out"
   ]
  },
  {
   "cell_type": "code",
   "execution_count": 12,
   "id": "4d0b7636",
   "metadata": {},
   "outputs": [],
   "source": [
    "vocab = {\"l o w <w>\": 5, \"l o w e r <w>\": 2, \"n e w e s t <w>\": 6, \"w i d e s t <w>\": 3}"
   ]
  },
  {
   "cell_type": "code",
   "execution_count": 13,
   "id": "436350ce",
   "metadata": {},
   "outputs": [
    {
     "name": "stdout",
     "output_type": "stream",
     "text": [
      "('e', 's')\n",
      "('es', 't')\n",
      "('est', '<w>')\n",
      "('l', 'o')\n",
      "('lo', 'w')\n",
      "('n', 'e')\n",
      "('ne', 'w')\n",
      "('new', 'est<w>')\n",
      "('low', '<w>')\n",
      "('w', 'i')\n"
     ]
    }
   ],
   "source": [
    "# 出現頻度が大きい単語ベアから順に結合\n",
    "num_merges = 10\n",
    "for i in range(num_merges):\n",
    "    pairs = get_stats(vocab)\n",
    "    best = max(pairs, key=pairs.get)\n",
    "    vocab = merge_vocab(best, vocab)\n",
    "    print(best)"
   ]
  },
  {
   "cell_type": "code",
   "execution_count": null,
   "id": "203c802b",
   "metadata": {},
   "outputs": [],
   "source": []
  }
 ],
 "metadata": {
  "kernelspec": {
   "display_name": "chapter2",
   "language": "python",
   "name": "python3"
  },
  "language_info": {
   "codemirror_mode": {
    "name": "ipython",
    "version": 3
   },
   "file_extension": ".py",
   "mimetype": "text/x-python",
   "name": "python",
   "nbconvert_exporter": "python",
   "pygments_lexer": "ipython3",
   "version": "3.12.11"
  }
 },
 "nbformat": 4,
 "nbformat_minor": 5
}
